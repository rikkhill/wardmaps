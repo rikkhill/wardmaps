{
 "cells": [
  {
   "cell_type": "code",
   "execution_count": null,
   "metadata": {
    "collapsed": true
   },
   "outputs": [],
   "source": [
    "import pandas as pd\n",
    "import json"
   ]
  },
  {
   "cell_type": "code",
   "execution_count": null,
   "metadata": {
    "collapsed": false
   },
   "outputs": [],
   "source": [
    "# Get a list of London electoral wards\n",
    "\n",
    "wards = pd.read_csv(\"../data/wards.csv\", encoding=\"ISO-8859-1\")\n",
    "london_wards_df = wards[wards[\"NUTS115NM\"] == \"London\"]\n",
    "london_wards = london_wards_df[\"LAU216CD\"].tolist()"
   ]
  },
  {
   "cell_type": "code",
   "execution_count": null,
   "metadata": {
    "collapsed": false
   },
   "outputs": [],
   "source": [
    "# Read in topojson and filter for London wards\n",
    "\n",
    "with open(\"../data/lau22015.geojson\") as f:\n",
    "    topology = json.loads(f.read())\n",
    "\n",
    "\n",
    "features = topology['features']\n",
    "\n",
    "print(len(features))\n",
    "print(len(london_wards))\n",
    "london_features = [x for x in features if x[\"properties\"]['lau215cd'] in london_wards]\n",
    "print(len(london_features))\n",
    "\n",
    "topology['features'] = london_features\n",
    "\n",
    "with open('../data/london_wards.json', 'w') as f:\n",
    "    json.dump(topology, f)\n",
    "\n",
    "\n",
    "\n"
   ]
  },
  {
   "cell_type": "code",
   "execution_count": null,
   "metadata": {
    "collapsed": false
   },
   "outputs": [],
   "source": [
    "with open(\"../data/london_ward_topology.json\") as f:\n",
    "    topology = json.loads(f.read())\n",
    "\n",
    "topology[\"objects\"]"
   ]
  },
  {
   "cell_type": "code",
   "execution_count": null,
   "metadata": {
    "collapsed": true
   },
   "outputs": [],
   "source": []
  }
 ],
 "metadata": {
  "anaconda-cloud": {},
  "kernelspec": {
   "display_name": "Python [conda env:stats]",
   "language": "python",
   "name": "conda-env-stats-py"
  },
  "language_info": {
   "codemirror_mode": {
    "name": "ipython",
    "version": 3
   },
   "file_extension": ".py",
   "mimetype": "text/x-python",
   "name": "python",
   "nbconvert_exporter": "python",
   "pygments_lexer": "ipython3",
   "version": "3.5.2"
  }
 },
 "nbformat": 4,
 "nbformat_minor": 1
}
